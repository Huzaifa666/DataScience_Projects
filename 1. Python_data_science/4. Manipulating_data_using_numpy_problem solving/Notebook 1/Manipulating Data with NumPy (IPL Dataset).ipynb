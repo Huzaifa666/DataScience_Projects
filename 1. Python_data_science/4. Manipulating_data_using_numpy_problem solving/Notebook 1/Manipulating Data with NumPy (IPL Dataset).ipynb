{
 "cells": [
  {
   "cell_type": "markdown",
   "metadata": {},
   "source": [
    "# IPL Dataset Analysis\n",
    "\n",
    "## Problem Statement\n",
    "We want to know as to what happens during an IPL match which raises several questions in our mind with our limited knowledge about the game called cricket on which it is based. This analysis is done to know as which factors led one of the team to win and how does it matter."
   ]
  },
  {
   "cell_type": "markdown",
   "metadata": {},
   "source": [
    "## About the Dataset :\n",
    "The Indian Premier League (IPL) is a professional T20 cricket league in India contested during April-May of every year by teams representing Indian cities. It is the most-attended cricket league in the world and ranks sixth among all the sports leagues. It has teams with players from around the world and is very competitive and entertaining with a lot of close matches between teams.\n",
    "\n",
    "The IPL and other cricket related datasets are available at [cricsheet.org](https://cricsheet.org/%c2%a0(data). Feel free to visit the website and explore the data by yourself as exploring new sources of data is one of the interesting activities a data scientist gets to do.\n",
    "\n",
    "## About the dataset:\n",
    "Snapshot of the data you will be working on:<br>\n",
    "<br>\n",
    "The dataset 1452 data points and 23 features<br>\n",
    "\n",
    "|Features|Description|\n",
    "|-----|-----|\n",
    "|match_code|Code pertaining to individual match|\n",
    "|date|Date of the match played|\n",
    "|city|Location where the match was played|\n",
    "|team1|team1|\n",
    "|team2|team2|\n",
    "|toss_winner|Who won the toss out of two teams|\n",
    "|toss_decision|toss decision taken by toss winner|\n",
    "|winner|Winner of that match between two teams|\n",
    "|win_type|How did the team won(by wickets or runs etc.)|\n",
    "|win_margin|difference with which the team won| \n",
    "|inning|inning type(1st or 2nd)|\n",
    "|delivery|ball delivery|\n",
    "|batting_team|current team on batting|\n",
    "|batsman|current batsman on strike|\n",
    "|non_striker|batsman on non-strike|\n",
    "|bowler|Current bowler|\n",
    "|runs|runs scored|\n",
    "|extras|extra run scored|\n",
    "|total|total run scored on that delivery including runs and extras|\n",
    "|extras_type|extra run scored by wides or no ball or legby|\n",
    "|player_out|player that got out|\n",
    "|wicket_kind|How did the player got out|\n",
    "|wicket_fielders|Fielder who caught out the player by catch|\n"
   ]
  },
  {
   "cell_type": "markdown",
   "metadata": {},
   "source": [
    "### Analysing data using numpy module"
   ]
  },
  {
   "cell_type": "markdown",
   "metadata": {},
   "source": [
    "### Read the data using numpy module."
   ]
  },
  {
   "cell_type": "code",
   "execution_count": 2,
   "metadata": {},
   "outputs": [],
   "source": [
    "import numpy as np\n",
    "# Not every data format will be in csv there are other file formats also.\n",
    "# This exercise will help you deal with other file formats and how toa read it.\n",
    "path = './data/ipl_matches_small.csv'\n",
    "data_ipl = np.genfromtxt(path, delimiter=',', skip_header=1, dtype=str)\n",
    "\n"
   ]
  },
  {
   "cell_type": "code",
   "execution_count": 6,
   "metadata": {},
   "outputs": [
    {
     "data": {
      "text/plain": [
       "array([['392203', '2009-05-01', 'East London', ..., '', '', ''],\n",
       "       ['392203', '2009-05-01', 'East London', ..., '', '', ''],\n",
       "       ['392203', '2009-05-01', 'East London', ..., '', '', ''],\n",
       "       ...,\n",
       "       ['335987', '2008-04-21', 'Jaipur', ..., '', '', ''],\n",
       "       ['335987', '2008-04-21', 'Jaipur', ..., '', '', ''],\n",
       "       ['335987', '2008-04-21', 'Jaipur', ..., '', '', '']], dtype='<U21')"
      ]
     },
     "execution_count": 6,
     "metadata": {},
     "output_type": "execute_result"
    }
   ],
   "source": [
    "data_ipl"
   ]
  },
  {
   "cell_type": "markdown",
   "metadata": {},
   "source": [
    "### Calculate the unique no. of matches in the provided dataset ?"
   ]
  },
  {
   "cell_type": "code",
   "execution_count": 44,
   "metadata": {},
   "outputs": [
    {
     "name": "stdout",
     "output_type": "stream",
     "text": [
      "The total number of matches played were 6\n"
     ]
    }
   ],
   "source": [
    "# How many matches were held in total we need to know so that we can analyze further statistics keeping that in mind.\n",
    "#count=0\n",
    "#for i in data_ipl:\n",
    "#    count+=1\n",
    "#print(count)\n",
    "a = len(np.unique(data_ipl[:,0]))\n",
    "print(\"The total number of matches played were\" , a)"
   ]
  },
  {
   "cell_type": "markdown",
   "metadata": {},
   "source": [
    "### Find the set of all unique teams that played in the matches in the data set."
   ]
  },
  {
   "cell_type": "code",
   "execution_count": 76,
   "metadata": {},
   "outputs": [
    {
     "name": "stdout",
     "output_type": "stream",
     "text": [
      "The set of all unique teams is  ['Chennai Super Kings', 'Deccan Chargers', 'Kings XI Punjab', 'Kolkata Knight Riders', 'Mumbai Indians', 'Pune Warriors', 'Rajasthan Royals']\n"
     ]
    }
   ],
   "source": [
    "a = np.unique(data_ipl[:,3:5])\n",
    "def nice(a):\n",
    "    ok = []\n",
    "    for i in a:\n",
    "        ok.append(i)\n",
    "    return ok\n",
    "print(\"The set of all unique teams is \", nice(a))\n",
    "# this exercise deals with you getting to know that which are all those six teams that played in the tournament."
   ]
  },
  {
   "cell_type": "code",
   "execution_count": 90,
   "metadata": {},
   "outputs": [
    {
     "name": "stdout",
     "output_type": "stream",
     "text": [
      "['0.1' '0.2' '0.3' ... '17.6' '17.7' '18.1']\n",
      "['0.1' '0.2' '0.3' ... '17.6' '17.7' '18.1']\n",
      "['0.1' '0.2' '0.3' ... '17.6' '17.7' '18.1']\n",
      "['0.1' '0.2' '0.3' ... '17.6' '17.7' '18.1']\n",
      "['0.1' '0.2' '0.3' ... '17.6' '17.7' '18.1']\n",
      "['0.1' '0.2' '0.3' ... '17.6' '17.7' '18.1']\n",
      "['0.1' '0.2' '0.3' ... '17.6' '17.7' '18.1']\n",
      "['0.1' '0.2' '0.3' ... '17.6' '17.7' '18.1']\n",
      "['0.1' '0.2' '0.3' ... '17.6' '17.7' '18.1']\n",
      "['0.1' '0.2' '0.3' ... '17.6' '17.7' '18.1']\n",
      "['0.1' '0.2' '0.3' ... '17.6' '17.7' '18.1']\n",
      "['0.1' '0.2' '0.3' ... '17.6' '17.7' '18.1']\n",
      "['0.1' '0.2' '0.3' ... '17.6' '17.7' '18.1']\n",
      "['0.1' '0.2' '0.3' ... '17.6' '17.7' '18.1']\n",
      "['0.1' '0.2' '0.3' ... '17.6' '17.7' '18.1']\n",
      "['0.1' '0.2' '0.3' ... '17.6' '17.7' '18.1']\n",
      "['0.1' '0.2' '0.3' ... '17.6' '17.7' '18.1']\n",
      "['0.1' '0.2' '0.3' ... '17.6' '17.7' '18.1']\n",
      "['0.1' '0.2' '0.3' ... '17.6' '17.7' '18.1']\n",
      "['0.1' '0.2' '0.3' ... '17.6' '17.7' '18.1']\n",
      "['0.1' '0.2' '0.3' ... '17.6' '17.7' '18.1']\n",
      "['0.1' '0.2' '0.3' ... '17.6' '17.7' '18.1']\n",
      "['0.1' '0.2' '0.3' ... '17.6' '17.7' '18.1']\n",
      "['0.1' '0.2' '0.3' ... '17.6' '17.7' '18.1']\n",
      "['0.1' '0.2' '0.3' ... '17.6' '17.7' '18.1']\n",
      "['0.1' '0.2' '0.3' ... '17.6' '17.7' '18.1']\n",
      "['0.1' '0.2' '0.3' ... '17.6' '17.7' '18.1']\n",
      "['0.1' '0.2' '0.3' ... '17.6' '17.7' '18.1']\n",
      "['0.1' '0.2' '0.3' ... '17.6' '17.7' '18.1']\n",
      "['0.1' '0.2' '0.3' ... '17.6' '17.7' '18.1']\n",
      "['0.1' '0.2' '0.3' ... '17.6' '17.7' '18.1']\n",
      "['0.1' '0.2' '0.3' ... '17.6' '17.7' '18.1']\n",
      "['0.1' '0.2' '0.3' ... '17.6' '17.7' '18.1']\n",
      "['0.1' '0.2' '0.3' ... '17.6' '17.7' '18.1']\n",
      "['0.1' '0.2' '0.3' ... '17.6' '17.7' '18.1']\n",
      "['0.1' '0.2' '0.3' ... '17.6' '17.7' '18.1']\n",
      "['0.1' '0.2' '0.3' ... '17.6' '17.7' '18.1']\n",
      "['0.1' '0.2' '0.3' ... '17.6' '17.7' '18.1']\n",
      "['0.1' '0.2' '0.3' ... '17.6' '17.7' '18.1']\n",
      "['0.1' '0.2' '0.3' ... '17.6' '17.7' '18.1']\n",
      "['0.1' '0.2' '0.3' ... '17.6' '17.7' '18.1']\n",
      "['0.1' '0.2' '0.3' ... '17.6' '17.7' '18.1']\n",
      "['0.1' '0.2' '0.3' ... '17.6' '17.7' '18.1']\n",
      "['0.1' '0.2' '0.3' ... '17.6' '17.7' '18.1']\n",
      "['0.1' '0.2' '0.3' ... '17.6' '17.7' '18.1']\n",
      "['0.1' '0.2' '0.3' ... '17.6' '17.7' '18.1']\n",
      "['0.1' '0.2' '0.3' ... '17.6' '17.7' '18.1']\n",
      "['0.1' '0.2' '0.3' ... '17.6' '17.7' '18.1']\n",
      "['0.1' '0.2' '0.3' ... '17.6' '17.7' '18.1']\n",
      "['0.1' '0.2' '0.3' ... '17.6' '17.7' '18.1']\n",
      "['0.1' '0.2' '0.3' ... '17.6' '17.7' '18.1']\n",
      "['0.1' '0.2' '0.3' ... '17.6' '17.7' '18.1']\n",
      "['0.1' '0.2' '0.3' ... '17.6' '17.7' '18.1']\n",
      "['0.1' '0.2' '0.3' ... '17.6' '17.7' '18.1']\n",
      "['0.1' '0.2' '0.3' ... '17.6' '17.7' '18.1']\n",
      "['0.1' '0.2' '0.3' ... '17.6' '17.7' '18.1']\n",
      "['0.1' '0.2' '0.3' ... '17.6' '17.7' '18.1']\n",
      "['0.1' '0.2' '0.3' ... '17.6' '17.7' '18.1']\n",
      "['0.1' '0.2' '0.3' ... '17.6' '17.7' '18.1']\n",
      "['0.1' '0.2' '0.3' ... '17.6' '17.7' '18.1']\n",
      "['0.1' '0.2' '0.3' ... '17.6' '17.7' '18.1']\n",
      "['0.1' '0.2' '0.3' ... '17.6' '17.7' '18.1']\n",
      "['0.1' '0.2' '0.3' ... '17.6' '17.7' '18.1']\n",
      "['0.1' '0.2' '0.3' ... '17.6' '17.7' '18.1']\n",
      "['0.1' '0.2' '0.3' ... '17.6' '17.7' '18.1']\n",
      "['0.1' '0.2' '0.3' ... '17.6' '17.7' '18.1']\n",
      "['0.1' '0.2' '0.3' ... '17.6' '17.7' '18.1']\n",
      "['0.1' '0.2' '0.3' ... '17.6' '17.7' '18.1']\n",
      "['0.1' '0.2' '0.3' ... '17.6' '17.7' '18.1']\n",
      "['0.1' '0.2' '0.3' ... '17.6' '17.7' '18.1']\n",
      "['0.1' '0.2' '0.3' ... '17.6' '17.7' '18.1']\n",
      "['0.1' '0.2' '0.3' ... '17.6' '17.7' '18.1']\n",
      "['0.1' '0.2' '0.3' ... '17.6' '17.7' '18.1']\n",
      "['0.1' '0.2' '0.3' ... '17.6' '17.7' '18.1']\n",
      "['0.1' '0.2' '0.3' ... '17.6' '17.7' '18.1']\n",
      "['0.1' '0.2' '0.3' ... '17.6' '17.7' '18.1']\n",
      "['0.1' '0.2' '0.3' ... '17.6' '17.7' '18.1']\n",
      "['0.1' '0.2' '0.3' ... '17.6' '17.7' '18.1']\n",
      "['0.1' '0.2' '0.3' ... '17.6' '17.7' '18.1']\n",
      "['0.1' '0.2' '0.3' ... '17.6' '17.7' '18.1']\n",
      "['0.1' '0.2' '0.3' ... '17.6' '17.7' '18.1']\n",
      "['0.1' '0.2' '0.3' ... '17.6' '17.7' '18.1']\n",
      "['0.1' '0.2' '0.3' ... '17.6' '17.7' '18.1']\n",
      "['0.1' '0.2' '0.3' ... '17.6' '17.7' '18.1']\n"
     ]
    }
   ],
   "source": [
    "for i in data_ipl[:,20]:\n",
    "    if i != '':\n",
    "        print(data_ipl[:,11])"
   ]
  },
  {
   "cell_type": "markdown",
   "metadata": {},
   "source": [
    "### Find sum of all extras in all deliveries in all matches in the dataset"
   ]
  },
  {
   "cell_type": "code",
   "execution_count": 77,
   "metadata": {},
   "outputs": [
    {
     "name": "stdout",
     "output_type": "stream",
     "text": [
      "The sum of all extras in all deliveries in all matches in the dataset is  88\n"
     ]
    }
   ],
   "source": [
    "# An exercise to make you familiar with indexing and slicing up within data.\n",
    "a=0\n",
    "for i in data_ipl[:,17]:\n",
    "    a += int(i)  \n",
    "print(\"The sum of all extras in all deliveries in all matches in the dataset is \",a)"
   ]
  },
  {
   "cell_type": "markdown",
   "metadata": {},
   "source": [
    "### Get the array of all delivery numbers when a given player got out. Also mention the wicket type."
   ]
  },
  {
   "cell_type": "markdown",
   "metadata": {},
   "source": []
  },
  {
   "cell_type": "code",
   "execution_count": 117,
   "metadata": {},
   "outputs": [
    {
     "data": {
      "text/plain": [
       "array([['ST Jayasuriya', 'caught', '3.2'],\n",
       "       ['Harbhajan Singh', 'caught', '5.5'],\n",
       "       ['SR Tendulkar', 'caught', '7.6'],\n",
       "       ['AM Nayar', 'bowled', '11.4'],\n",
       "       ['GR Napier', 'caught', '15.6'],\n",
       "       ['AM Rahane', 'caught', '18.6'],\n",
       "       ['SC Ganguly', 'bowled', '0.4'],\n",
       "       ['CH Gayle', 'bowled', '2.2'],\n",
       "       ['MN van Wyk', 'caught', '14.5'],\n",
       "       ['LR Shukla', 'bowled', '17.2'],\n",
       "       ['BJ Hodge', 'run out', '18.6'],\n",
       "       ['BB McCullum', 'caught', '19.3'],\n",
       "       ['SR Tendulkar', 'lbw', '12.2'],\n",
       "       ['Harbhajan Singh', 'caught', '13.5'],\n",
       "       ['ST Jayasuriya', 'caught', '14.4'],\n",
       "       ['AM Nayar', 'run out', '15.1'],\n",
       "       ['DJ Bravo', 'caught', '16.6'],\n",
       "       ['S Dhawan', 'caught', '18.5'],\n",
       "       ['BB McCullum', 'caught', '1.7'],\n",
       "       ['CH Gayle', 'caught', '2.7'],\n",
       "       ['BJ Hodge', 'bowled', '10.2'],\n",
       "       ['SC Ganguly', 'caught', '12.1'],\n",
       "       ['AN Ghosh', 'caught', '12.3'],\n",
       "       ['Yashpal Singh', 'caught', '13.2'],\n",
       "       ['LR Shukla', 'caught', '14.5'],\n",
       "       ['BAW Mendis', 'bowled', '15.1'],\n",
       "       ['AB Dinda', 'bowled', '15.2'],\n",
       "       ['HH Gibbs', 'caught', '1.5'],\n",
       "       ['TL Suman', 'caught', '5.3'],\n",
       "       ['AC Gilchrist', 'bowled', '9.4'],\n",
       "       ['DR Smith', 'bowled', '12.6'],\n",
       "       ['RG Sharma', 'caught', '17.1'],\n",
       "       ['Y Venugopal Rao', 'run out', '19.1'],\n",
       "       ['ST Jayasuriya', 'caught', '1.4'],\n",
       "       ['SR Tendulkar', 'bowled', '1.5'],\n",
       "       ['PR Shah', 'caught', '8.5'],\n",
       "       ['DJ Bravo', 'caught', '14.1'],\n",
       "       ['AM Nayar', 'bowled', '15.5'],\n",
       "       ['Harbhajan Singh', 'bowled', '15.6'],\n",
       "       ['JP Duminy', 'caught', '17.1'],\n",
       "       ['SS Tiwary', 'stumped', '17.3'],\n",
       "       ['BB McCullum', 'caught', '5.3'],\n",
       "       ['DR Smith', 'caught', '7.2'],\n",
       "       ['SK Raina', 'caught', '8.2'],\n",
       "       ['F du Plessis', 'run out', '10.1'],\n",
       "       ['MS Dhoni', 'caught', '11.1'],\n",
       "       ['M Manhas', 'caught', '14.5'],\n",
       "       ['AM Nayar', 'run out', '1.3'],\n",
       "       ['AM Rahane', 'caught', '5.2'],\n",
       "       ['SR Watson', 'caught', '6.4'],\n",
       "       ['SV Samson', 'caught and bowled', '6.5'],\n",
       "       ['STR Binny', 'caught', '10.5'],\n",
       "       ['SPD Smith', 'caught', '12.6'],\n",
       "       ['JP Faulkner', 'caught', '13.3'],\n",
       "       ['TG Southee', 'bowled', '14.2'],\n",
       "       ['R Bhatia', 'caught', '18.3'],\n",
       "       ['PV Tambe', 'run out', '19.5'],\n",
       "       ['M Vijay', 'caught', '9.2'],\n",
       "       ['SK Raina', 'bowled', '9.6'],\n",
       "       ['MS Dhoni', 'stumped', '16.4'],\n",
       "       ['MEK Hussey', 'caught', '17.2'],\n",
       "       ['JA Morkel', 'caught', '17.5'],\n",
       "       ['S Anirudha', 'caught', '19.6'],\n",
       "       ['MD Mishra', 'bowled', '2.4'],\n",
       "       ['JD Ryder', 'bowled', '3.6'],\n",
       "       ['MK Pandey', 'bowled', '4.6'],\n",
       "       ['RV Uthappa', 'bowled', '5.3'],\n",
       "       ['M Manhas', 'caught', '12.6'],\n",
       "       ['Yuvraj Singh', 'caught', '18.3'],\n",
       "       ['R Sharma', 'run out', '18.5'],\n",
       "       ['JE Taylor', 'run out', '19.1'],\n",
       "       ['NL McCullum', 'caught', '19.2'],\n",
       "       ['K Goel', 'bowled', '4.5'],\n",
       "       ['KC Sangakkara', 'caught and bowled', '6.3'],\n",
       "       ['DPMD Jayawardene', 'stumped', '7.4'],\n",
       "       ['JR Hopes', 'lbw', '8.6'],\n",
       "       ['Yuvraj Singh', 'lbw', '16.5'],\n",
       "       ['IK Pathan', 'bowled', '17.2'],\n",
       "       ['B Lee', 'caught', '17.4'],\n",
       "       ['S Sohal', 'run out', '18.6'],\n",
       "       ['M Kaif', 'caught', '1.1'],\n",
       "       ['YK Pathan', 'caught and bowled', '2.3'],\n",
       "       ['Kamran Akmal', 'caught', '4.5'],\n",
       "       ['DS Lehmann', 'lbw', '11.2']], dtype='<U21')"
      ]
     },
     "execution_count": 117,
     "metadata": {},
     "output_type": "execute_result"
    }
   ],
   "source": [
    "cond = data_ipl[:, 20] != ''\n",
    "data_ipl[cond][:,[20,21,11]]"
   ]
  },
  {
   "cell_type": "code",
   "execution_count": null,
   "metadata": {},
   "outputs": [],
   "source": []
  },
  {
   "cell_type": "markdown",
   "metadata": {},
   "source": [
    "### How many matches the team `Mumbai Indians` has won the toss?"
   ]
  },
  {
   "cell_type": "code",
   "execution_count": 122,
   "metadata": {},
   "outputs": [
    {
     "name": "stdout",
     "output_type": "stream",
     "text": [
      "2\n"
     ]
    }
   ],
   "source": [
    "# this exercise will help you get the statistics on one particular team\n",
    "cond = data_ipl[:,5] == \"Mumbai Indians\"\n",
    "a = data_ipl[cond][:,0]\n",
    "print(np.unique(a).size)"
   ]
  },
  {
   "cell_type": "markdown",
   "metadata": {},
   "source": [
    "### Create a filter that filters only those records where the batsman scored 6 runs. Also who has scored the maximum no. of sixes overall ?"
   ]
  },
  {
   "cell_type": "code",
   "execution_count": 153,
   "metadata": {},
   "outputs": [
    {
     "name": "stdout",
     "output_type": "stream",
     "text": [
      "The list of players are ['SR Tendulkar' 'SR Tendulkar' 'JP Duminy' 'JP Duminy' 'JP Duminy'\n",
      " 'JP Duminy' 'BJ Hodge' 'BJ Hodge' 'BJ Hodge' 'SR Tendulkar'\n",
      " 'SR Tendulkar' 'ST Jayasuriya' 'ST Jayasuriya' 'SR Tendulkar'\n",
      " 'ST Jayasuriya' 'ST Jayasuriya' 'SR Tendulkar' 'Harbhajan Singh'\n",
      " 'Harbhajan Singh' 'CH Gayle' 'SC Ganguly' 'TL Suman' 'TL Suman'\n",
      " 'AC Gilchrist' 'RG Sharma' 'DR Smith' 'Y Venugopal Rao' 'PR Shah'\n",
      " 'PR Shah' 'RR Raje' 'DR Smith' 'DR Smith' 'DR Smith' 'SV Samson'\n",
      " 'SV Samson' 'SR Watson' 'R Bhatia' 'DS Kulkarni' 'DS Kulkarni'\n",
      " 'MEK Hussey' 'M Vijay' 'MS Dhoni' 'S Badrinath' 'JD Ryder' 'M Manhas'\n",
      " 'K Goel' 'K Goel' 'KC Sangakkara' 'Yuvraj Singh' 'Yuvraj Singh'\n",
      " 'Yuvraj Singh' 'IK Pathan' 'Kamran Akmal' 'SR Watson' 'SR Watson'\n",
      " 'SR Watson' 'SR Watson' 'SR Watson' 'RA Jadeja']\n"
     ]
    }
   ],
   "source": [
    "# An exercise to know who is the most aggresive player or maybe the scoring player \n",
    "#13\n",
    "condition = data_ipl[:,16] == '6'\n",
    "a = data_ipl[condition][:,13]\n",
    "print('The list of players are', a)"
   ]
  },
  {
   "cell_type": "code",
   "execution_count": null,
   "metadata": {},
   "outputs": [],
   "source": []
  },
  {
   "cell_type": "code",
   "execution_count": 158,
   "metadata": {},
   "outputs": [
    {
     "data": {
      "text/plain": [
       "array([['AC Gilchrist', '1'],\n",
       "       ['BJ Hodge', '3'],\n",
       "       ['CH Gayle', '1'],\n",
       "       ['DR Smith', '4'],\n",
       "       ['DS Kulkarni', '2'],\n",
       "       ['Harbhajan Singh', '2'],\n",
       "       ['IK Pathan', '1'],\n",
       "       ['JD Ryder', '1'],\n",
       "       ['JP Duminy', '4'],\n",
       "       ['K Goel', '2'],\n",
       "       ['KC Sangakkara', '1'],\n",
       "       ['Kamran Akmal', '1'],\n",
       "       ['M Manhas', '1'],\n",
       "       ['M Vijay', '1'],\n",
       "       ['MEK Hussey', '1'],\n",
       "       ['MS Dhoni', '1'],\n",
       "       ['PR Shah', '2'],\n",
       "       ['R Bhatia', '1'],\n",
       "       ['RA Jadeja', '1'],\n",
       "       ['RG Sharma', '1'],\n",
       "       ['RR Raje', '1'],\n",
       "       ['S Badrinath', '1'],\n",
       "       ['SC Ganguly', '1'],\n",
       "       ['SR Tendulkar', '6'],\n",
       "       ['SR Watson', '6'],\n",
       "       ['ST Jayasuriya', '4'],\n",
       "       ['SV Samson', '2'],\n",
       "       ['TL Suman', '2'],\n",
       "       ['Y Venugopal Rao', '1'],\n",
       "       ['Yuvraj Singh', '3']], dtype='<U21')"
      ]
     },
     "execution_count": 158,
     "metadata": {},
     "output_type": "execute_result"
    }
   ],
   "source": [
    "unique, counts = np.unique(a, return_counts=True)\n",
    "hello = np.asarray((unique, counts)).T\n",
    "hello"
   ]
  },
  {
   "cell_type": "code",
   "execution_count": 172,
   "metadata": {},
   "outputs": [
    {
     "name": "stdout",
     "output_type": "stream",
     "text": [
      "[['SR Tendulkar' '6']\n",
      " ['SR Watson' '6']]\n"
     ]
    }
   ],
   "source": [
    "ode = np.where(hello[:,1] == '6')\n",
    "print(hello[ode])"
   ]
  }
 ],
 "metadata": {
  "kernelspec": {
   "display_name": "Python 3",
   "language": "python",
   "name": "python3"
  },
  "language_info": {
   "codemirror_mode": {
    "name": "ipython",
    "version": 3
   },
   "file_extension": ".py",
   "mimetype": "text/x-python",
   "name": "python",
   "nbconvert_exporter": "python",
   "pygments_lexer": "ipython3",
   "version": "3.7.3"
  }
 },
 "nbformat": 4,
 "nbformat_minor": 2
}
