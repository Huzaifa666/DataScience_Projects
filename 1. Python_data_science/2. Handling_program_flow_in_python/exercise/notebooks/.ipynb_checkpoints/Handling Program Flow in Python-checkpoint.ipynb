{
 "cells": [
  {
   "cell_type": "markdown",
   "metadata": {
    "slideshow": {
     "slide_type": "slide"
    }
   },
   "source": [
    " # Handling Program Flow in Python"
   ]
  },
  {
   "cell_type": "markdown",
   "metadata": {},
   "source": [
    "## Explainer Video"
   ]
  },
  {
   "cell_type": "code",
   "execution_count": 1,
   "metadata": {},
   "outputs": [
    {
     "data": {
      "text/html": [
       "<iframe src=\"https://player.vimeo.com/video/278480064\" width=\"800\" height=\"600\" frameborder=\"0\" webkitallowfullscreen mozallowfullscreen allowfullscreen></iframe>"
      ],
      "text/plain": [
       "<IPython.core.display.HTML object>"
      ]
     },
     "execution_count": 1,
     "metadata": {},
     "output_type": "execute_result"
    }
   ],
   "source": [
    "from IPython.display import HTML\n",
    "\n",
    "HTML('<iframe src=\"https://player.vimeo.com/video/278480064\" width=\"800\" height=\"600\" frameborder=\"0\" webkitallowfullscreen mozallowfullscreen allowfullscreen></iframe>'\n",
    ")"
   ]
  },
  {
   "cell_type": "markdown",
   "metadata": {
    "slideshow": {
     "slide_type": "subslide"
    }
   },
   "source": [
    "<img src=\"../images/icon/Technical-Stuff.png\" alt=\"Concept-Alert\" style=\"width: 100px;float:left; margin-right:15px\"/>\n",
    "<br /> \n",
    "\n",
    "# Python Programming Constructs\n",
    "***\n",
    "We'll be talking about\n",
    "- Conditional Statements\n",
    "- Looping\n",
    "- Comprehensions\n",
    "- Object Oriented Programming"
   ]
  },
  {
   "cell_type": "markdown",
   "metadata": {},
   "source": [
    "# If,elif,else Statements\n",
    "\n",
    "if Statements in Python allows us to tell the computer to perform alternative actions based on a certain set of results.\n",
    "\n",
    "Verbally, we can imagine we are telling the computer:\n",
    "\n",
    "\"Hey if this case happens, perform some action\"\n",
    "\n",
    "We can then expand the idea further with elif and else statements, which allow us to tell the computer:\n",
    "\n",
    "\"Hey if this case happens, perform some action. Else if another case happens, perform some other action. Else-- none of the above cases happened, perform this action\"\n",
    "\n",
    "Let's go ahead and look at the syntax format for if statements to get a better idea of this:\n",
    "\n",
    "    if case1:\n",
    "        perform action1\n",
    "    elif case2:\n",
    "        perform action2\n",
    "    else: \n",
    "        perform action 3"
   ]
  },
  {
   "cell_type": "markdown",
   "metadata": {},
   "source": [
    "### Instructions\n",
    "Is the number positive or negative?\n",
    "\n",
    "In this task you are going to make use of the if-elif-else statement to find out if a number is positive, negative or zero.\n",
    "\n",
    "* A variable `num = -5` is given along with another variable `condition=None` (captures the state of num)\n",
    "\n",
    "* Put the conditions for checking whether the number is positive (+) , negative (-) or zero (0) using if-elif-else construct.\n",
    "\n",
    "* If `num` is greater than 0 set `condition='positive'`. Print out the variable condition.\n",
    "\n",
    "* Else `num` is less than 0, set `condition='negative'`. Print out the variable condition.\n",
    "\n",
    "* Else num is equal to 0 set `condition='zero'`. Print out the variable condition."
   ]
  },
  {
   "cell_type": "code",
   "execution_count": 1,
   "metadata": {
    "ExecuteTime": {
     "end_time": "2017-09-25T05:49:17.584649Z",
     "start_time": "2017-09-25T05:49:17.562599Z"
    },
    "slideshow": {
     "slide_type": "fragment"
    }
   },
   "outputs": [
    {
     "name": "stdout",
     "output_type": "stream",
     "text": [
      "negative\n"
     ]
    }
   ],
   "source": [
    "# initialize variable\n",
    "num = -5\n",
    "condition = None\n",
    "\n",
    "# Code starts here\n",
    "if num>0:\n",
    "    condition = 'positive'\n",
    "    print(condition)\n",
    "    \n",
    "elif num<0:\n",
    "    condition = 'negative'\n",
    "    print(condition)\n",
    "\n",
    "else:\n",
    "    condition = 'zero'\n",
    "    print(condition)\n",
    "# check for conditions\n"
   ]
  },
  {
   "cell_type": "markdown",
   "metadata": {},
   "source": [
    "<img src=\"../images/icon/Warning.png\" alt=\"Warning\" style=\"width: 100px;float:left; margin-right:15px\"/>\n",
    "<br />\n",
    "\n",
    "### Indentation\n",
    "***\n",
    "It is important to keep a good understanding of how indentation works in Python to maintain the structure and order of your code. We will touch on this topic again when we start building out functions!"
   ]
  },
  {
   "cell_type": "markdown",
   "metadata": {},
   "source": [
    "<img src=\"../images/icon/Technical-Stuff.png\" alt=\"Technical-Stuff\" style=\"width: 100px;float:left; margin-right:15px\"/>\n",
    "<br />\n",
    "\n",
    "# For Loops\n",
    "***\n",
    "A **for** loop acts as an iterator in Python, it goes through items that are in a *sequence* or any other iterable item. Objects that we've learned about that we can iterate over include strings,lists,tuples, and even built in iterables for dictionaries, such as the keys or values.\n",
    "\n",
    "We've already seen the **for** statement a little bit in past lectures but now lets formalize our understanding.\n",
    "\n",
    "Here's the general format for a **for** loop in Python:\n",
    "\n",
    "    for item in object:\n",
    "        statements to do stuff\n",
    "\n",
    "The variable name used for the item is completely up to the coder, so use your best judgment for choosing a name that makes sense and you will be able to understand when revisiting your code. This item name can then be referenced inside you loop, for example if you wanted to use if statements to perform checks.\n",
    "\n",
    "Let's go ahead and work through several example of **for** loops using a variety of data object types. we'll start simple and build more complexity later on.\n"
   ]
  },
  {
   "cell_type": "code",
   "execution_count": 5,
   "metadata": {},
   "outputs": [
    {
     "name": "stdout",
     "output_type": "stream",
     "text": [
      "[2, 3, 4]\n"
     ]
    }
   ],
   "source": [
    "l = [1,2,3]\n",
    "l3=[]\n",
    "for i in l:\n",
    "    l2 = i+1\n",
    "    l3.append(l2)\n",
    "\n",
    "print(l3)"
   ]
  },
  {
   "cell_type": "markdown",
   "metadata": {},
   "source": [
    "### Instructions\n",
    "\n",
    "Find numbers divisible by 2 or 4\n",
    "\n",
    "In this task you will learn how to use a for loop and conditionals by making a list of natural numbers less than or equal to 60 which are divisible by 2 or 4.\n",
    "\n",
    "* Iterate over a range using the `range()` function from `1` to `61` using the for loop\n",
    "\n",
    "* Initialize an empty list named `divisible` to store your results\n",
    "\n",
    "* Use the if statement to check if the iterable is divisible by `2` or `4`, and if yes, then append it to the list created in the above step\n",
    "\n",
    "* Print `divisible`"
   ]
  },
  {
   "cell_type": "code",
   "execution_count": 6,
   "metadata": {},
   "outputs": [
    {
     "name": "stdout",
     "output_type": "stream",
     "text": [
      "[2, 4, 6, 8, 10, 12, 14, 16, 18, 20, 22, 24, 26, 28, 30, 32, 34, 36, 38, 40, 42, 44, 46, 48, 50, 52, 54, 56, 58, 60]\n"
     ]
    }
   ],
   "source": [
    "# initialize empty list\n",
    "divisible = []\n",
    "\n",
    "# for loop to store elements \n",
    "for i in range(1,62):\n",
    "    if i%2 == 0 or i%4 == 0:\n",
    "        divisible.append(i)\n",
    "        \n",
    "print(divisible)\n",
    "# display list\n"
   ]
  },
  {
   "cell_type": "markdown",
   "metadata": {},
   "source": [
    "### Instructions\n",
    "\n",
    "* Now its time for you to code again can you create a list of 10 numbers iterate through the list and print the square of each number."
   ]
  },
  {
   "cell_type": "code",
   "execution_count": null,
   "metadata": {},
   "outputs": [],
   "source": []
  },
  {
   "cell_type": "markdown",
   "metadata": {},
   "source": [
    "<img src=\"../images/icon/Technical-Stuff.png\" alt=\"Technical-Stuff\" style=\"width: 100px;float:left; margin-right:15px\"/>\n",
    "<br />\n",
    "\n",
    "# While loops\n",
    "***\n",
    "The **while** statement in Python is one of most general ways to perform iteration. A **while** statement will repeatedly execute a single statement or group of statements as long as the condition is true. The reason it is called a 'loop' is because the code statements are looped through over and over again until the condition is no longer met.\n",
    "\n",
    "The general format of a while loop is:\n",
    "\n",
    "    while test:\n",
    "        code statement\n",
    "    else:\n",
    "        final code statements\n",
    "\n",
    "Let’s look at a few simple while loops in action. \n"
   ]
  },
  {
   "cell_type": "markdown",
   "metadata": {},
   "source": [
    "### Instructions\n",
    "Find multiples of 20\n",
    "In this task you will be using a while loop to iterate over natural numbers from 1 to 100 and store only the multiples of 10 in a list and print that list\n",
    "\n",
    "* Initialize an empty list `factors` and a variable `num` equal to `1`\n",
    "\n",
    "* Set the condtion in the `while` loop until the variable `num` is equal to or less than `200`\n",
    "\n",
    "* Check using an if statement whether the variable is divisible by 10 and if it is, append that number to `factors`\n",
    "\n",
    "* Increment the variable `num` by `1` post checking the above condition. (note that this increment will be outside the if statement, take care of the indentation in order to avoid a scenario of infinite loop)\n",
    "\n",
    "* Print out the `factors` list"
   ]
  },
  {
   "cell_type": "code",
   "execution_count": 12,
   "metadata": {},
   "outputs": [
    {
     "name": "stdout",
     "output_type": "stream",
     "text": [
      "[10, 20, 30, 40, 50, 60, 70, 80, 90, 100]\n"
     ]
    }
   ],
   "source": [
    "# initialize\n",
    "factors = []\n",
    "num = 1\n",
    "\n",
    "# while loop\n",
    "while(num <= 100):\n",
    "    if num%10 == 0:\n",
    "        factors.append(num)\n",
    "    num += 1\n",
    "print(factors)\n",
    "\n",
    "# display answer\n"
   ]
  },
  {
   "cell_type": "markdown",
   "metadata": {
    "slideshow": {
     "slide_type": "subslide"
    }
   },
   "source": [
    "<img src=\"../images/icon/Technical-Stuff.png\" alt=\"Technical-Stuff\" style=\"width: 100px;float:left; margin-right:15px\"/>\n",
    "<br />\n",
    "\n",
    "# Functions\n",
    "## Comprehensions\n",
    "***\n",
    "- Python provides syntactic sugar to write small loops to generate lists/sets/tuples/dicts in one line\n",
    "- These are called comprehensions, and can greatly increase development speed and readability\n",
    "\n",
    "Syntax:\n",
    "```\n",
    "    sequence = [expression(element) for element in iterable if condition]\n",
    "```\n",
    "\n",
    "The brackets used for creating the comprehension define what type of object is created.\n",
    "\n",
    "Use **[ ]** for lists, **()** for _generators_, **{}** for sets and dicts"
   ]
  },
  {
   "cell_type": "code",
   "execution_count": null,
   "metadata": {},
   "outputs": [],
   "source": []
  },
  {
   "cell_type": "markdown",
   "metadata": {
    "collapsed": true,
    "slideshow": {
     "slide_type": "subslide"
    }
   },
   "source": [
    "### `list` Comprehension"
   ]
  },
  {
   "cell_type": "markdown",
   "metadata": {},
   "source": [
    "### Instructions\n",
    "* Assign a list of names as `[\"Ravi\", \"Pooja\", \"Vijay\", \"Kiran\"]` to the variable `names`\n",
    "* Make a list `hello` using list comprehension in that add `\"Hello \"` +  which would contain elements which are in `names` "
   ]
  },
  {
   "cell_type": "code",
   "execution_count": 8,
   "metadata": {
    "ExecuteTime": {
     "end_time": "2017-09-25T05:49:22.607807Z",
     "start_time": "2017-09-25T05:49:22.597985Z"
    },
    "slideshow": {
     "slide_type": "fragment"
    }
   },
   "outputs": [
    {
     "name": "stdout",
     "output_type": "stream",
     "text": [
      "['Hello Ravi', 'Hello Pooja', 'Hello Vijay', 'Hello Kiran']\n"
     ]
    }
   ],
   "source": [
    "names = [\"Ravi\", \"Pooja\", \"Vijay\", \"Kiran\"]\n",
    "hello = [\"Hello \" + name for name in names]\n",
    "print(hello)"
   ]
  },
  {
   "cell_type": "markdown",
   "metadata": {},
   "source": [
    "### Instructions\n",
    "Present in one but absent in another\n",
    "\n",
    "In this task you will make a list comprehension to return a list of numbers which are not present in another list of numbers.\n",
    "\n",
    "* Define a list of numbers `alist` from `1` to `50` using a list comprehension.\n",
    "\n",
    "* Define another list `blist` and store its values as [1,3,5,10,14,13,17,19,23,29,31,38,41,45,47].\n",
    "\n",
    "* Make a list `final` using list comprehension which would contain elemnts which are in alist but not in blist.\n",
    "\n",
    "* Print `final`"
   ]
  },
  {
   "cell_type": "code",
   "execution_count": 19,
   "metadata": {},
   "outputs": [
    {
     "name": "stdout",
     "output_type": "stream",
     "text": [
      "[2, 4, 6, 7, 8, 9, 11, 12, 15, 16, 18, 20, 21, 22, 24, 25, 26, 27, 28, 30, 32, 33, 34, 35, 36, 37, 39, 40, 42, 43, 44, 46, 48, 49]\n"
     ]
    }
   ],
   "source": [
    "# initialize both lists\n",
    "alist = [i for i in range(1,50)]\n",
    "blist = [1,3,5,10,14,13,17,19,23,29,31,38,41,45,47]\n",
    "\n",
    "# final list\n",
    "final = [i for i in alist if i not in blist]\n",
    "# display final list\n",
    "print(final)"
   ]
  },
  {
   "cell_type": "markdown",
   "metadata": {
    "slideshow": {
     "slide_type": "subslide"
    }
   },
   "source": [
    "<img src=\"../images/icon/Technical-Stuff.png\" alt=\"Technical-Stuff\" style=\"width: 100px;float:left; margin-right:15px\"/>\n",
    "<br />\n",
    "\n",
    "## Exception Handling\n",
    "***\n",
    "#### try and except\n",
    "\n",
    "The basic terminology and syntax used to handle errors in Python is the **try** and **except** statements. The code which can cause an exception to occue is put in the *try* block and the handling of the exception is the implemented in the *except* block of code. The syntax form is:\n",
    "\n",
    "    try:\n",
    "       You do your operations here...\n",
    "       ...\n",
    "    except ExceptionI:\n",
    "       If there is ExceptionI, then execute this block.\n",
    "    except ExceptionII:\n",
    "       If there is ExceptionII, then execute this block.\n",
    "       ...\n",
    "    else:\n",
    "       If there is no exception then execute this block. \n",
    "\n",
    "We can also just check for any exception with just using except: To get a better understanding of all this lets check out an example: We will look at some code that opens and writes a file:"
   ]
  },
  {
   "cell_type": "code",
   "execution_count": null,
   "metadata": {
    "ExecuteTime": {
     "end_time": "2017-09-25T05:49:25.844203Z",
     "start_time": "2017-09-25T05:49:25.831637Z"
    },
    "slideshow": {
     "slide_type": "fragment"
    }
   },
   "outputs": [],
   "source": []
  },
  {
   "cell_type": "markdown",
   "metadata": {},
   "source": [
    "### Instructions\n",
    "\n",
    "Divide two numbers avoiding zero in the denominator\n",
    "\n",
    "In this task you will practice using exceptions to deal with a situation which involves raising exceptions for division of two numbers.\n",
    "\n",
    "* Two variables `num1` and `num2` are given and your mission is to avoid `ZeroDivisionError`\n",
    "\n",
    "* Inside the `try` block execute the division statement of dividing the first number by the second number, store the message as a variable `message = \"Quotient is\" + ' ' + str(quotient)` where `quotient=num1/num2`. Print out `message`\n",
    "\n",
    "* Raise exceptions for `ZeroDivisionError` with `message = \"Cannot divide by zero\"`. Print out `message`\n"
   ]
  },
  {
   "cell_type": "code",
   "execution_count": 22,
   "metadata": {},
   "outputs": [
    {
     "name": "stdout",
     "output_type": "stream",
     "text": [
      "Cannot divide by zero\n"
     ]
    }
   ],
   "source": [
    "# take input\n",
    "num1 = 5\n",
    "num2 = 0\n",
    "\n",
    "try:\n",
    "    quotient=num1/num2\n",
    "    message = \"Quotient is\" + ' ' + str(quotient)\n",
    "    print(message)\n",
    "    \n",
    "except ZeroDivisionError:\n",
    "    message = \"Cannot divide by zero\"\n",
    "    print(message)\n",
    "# Code starts here\n"
   ]
  },
  {
   "cell_type": "markdown",
   "metadata": {
    "ExecuteTime": {
     "end_time": "2017-09-19T10:03:27.500870Z",
     "start_time": "2017-09-19T10:03:27.495827Z"
    },
    "slideshow": {
     "slide_type": "subslide"
    }
   },
   "source": [
    "<img src=\"../images/icon/Technical-Stuff.png\" alt=\"Concept-Alert\" style=\"width: 100px;float:left; margin-right:15px\"/>\n",
    "<br /> \n",
    "\n",
    "## File I/O : Helps you read your files\n",
    "***\n",
    "- Python provides a `file` object to read text/binary files.\n",
    "- This is similar to the `FileStream` object in other languages.\n",
    "- Since a `file` is a resource, it must be closed after use. This can be done manually, or using a context manager (**`with`** statement)"
   ]
  },
  {
   "cell_type": "markdown",
   "metadata": {
    "slideshow": {
     "slide_type": "subslide"
    }
   },
   "source": [
    "<div class=\"alert alert-block alert-info\">Create a file in the current directory</div>"
   ]
  },
  {
   "cell_type": "markdown",
   "metadata": {},
   "source": [
    "### Instructions\n",
    "* The file `myfile.txt` is already created for you. Open it in `write` mode with `with open('myfile.txt', 'w') as f:`\n",
    "\n",
    "* Write `\"This is my first line!\\n\"` into the file using `'f.write()'` \n",
    "\n",
    "* Write `\"Second line!\\n\"` into the file using `'f.write()'` \n",
    "\n",
    "* Write `\"Last line!\\n\"` into the file using `'f.write()'`\n",
    "\n"
   ]
  },
  {
   "cell_type": "code",
   "execution_count": 24,
   "metadata": {
    "ExecuteTime": {
     "end_time": "2017-09-25T05:46:48.444281Z",
     "start_time": "2017-09-25T05:46:48.404481Z"
    },
    "slideshow": {
     "slide_type": "fragment"
    }
   },
   "outputs": [
    {
     "data": {
      "text/plain": [
       "11"
      ]
     },
     "execution_count": 24,
     "metadata": {},
     "output_type": "execute_result"
    }
   ],
   "source": [
    "f =  open('myfile.txt', 'w')\n",
    "\n",
    "f.write(\"This is my first line!\\n\")\n",
    "f.write(\"Second line!\\n\")\n",
    "f.write(\"Last line!\\n\")"
   ]
  },
  {
   "cell_type": "markdown",
   "metadata": {
    "slideshow": {
     "slide_type": "subslide"
    }
   },
   "source": [
    "<div class=\"alert alert-block alert-info\">Read the newly created file</div>"
   ]
  },
  {
   "cell_type": "markdown",
   "metadata": {},
   "source": [
    "### Instructions\n",
    "* Open `myfile.txt` in read mode and print all the lines in the file"
   ]
  },
  {
   "cell_type": "code",
   "execution_count": 30,
   "metadata": {
    "ExecuteTime": {
     "end_time": "2017-09-21T07:13:26.917607Z",
     "start_time": "2017-09-21T07:13:26.909666Z"
    },
    "slideshow": {
     "slide_type": "fragment"
    }
   },
   "outputs": [
    {
     "name": "stdout",
     "output_type": "stream",
     "text": [
      "This is my first line!\n",
      "\n",
      "Second line!\n",
      "\n",
      "Last line!\n",
      "\n"
     ]
    }
   ],
   "source": [
    "# read the file we just created\n",
    "\n",
    "f =  open('myfile.txt', 'r')\n",
    "for i in f.readlines():\n",
    "    print(i)\n",
    "    \n",
    "    "
   ]
  },
  {
   "cell_type": "markdown",
   "metadata": {},
   "source": [
    "<img src=\"../images/icon/Technical-Stuff.png\" alt=\"Concept-Alert\" style=\"width: 100px;float:left; margin-right:15px\"/>\n",
    "<br />\n",
    "\n",
    "## Object Oriented Programming\n",
    "***\n",
    "Object Oriented Programming in a nutshell\n",
    "\n",
    "Till now you have dealt with functions manipulating data inside them which is also called the procedure oriented way of programming. But there is another more powerful way of organizing your program which gives you the flexibility to deal with data and functionality and wrap it inside something called an object. Since Python is a multi-paradigmed language, it supports object oriented programming (OOP).\n",
    "\n",
    "Class and objects are two important aspects in OOP. Class creates a new type altogether whereas object is an instance of an a class. These can have their own attributes i.e. characteristics and methods i.e. actions.\n",
    "\n",
    "Example of OOP\n",
    "For instance, John is an object of the class human with attributes like name, age and methods like speaking, eating etc."
   ]
  },
  {
   "cell_type": "markdown",
   "metadata": {},
   "source": [
    "### Instructions\n",
    "Calculate area and perimeter of circle with class\n",
    "\n",
    "In this task you will be creating your own class for a circle and define two methods to compute its perimeter and area.\n",
    "\n",
    "* Name the class Circle and initialize it using `__init__()` which takes in argument radius along with self and initializes its radius self.radius = radius.\n",
    "\n",
    "* Define another two methods `area()` and `perimeter()` which takes only the keyword `self` as argument and calculates the area(3.14xradius^2) and perimeter (2*3.14xradius) respectively.\n",
    "\n",
    "* Finally, instantiate an object for `Circle` of radius `5` and save it as `circle`\n",
    "\n",
    "* Calculate the area of `circle` using its `.area()` method and save it as `circle_area`\n",
    "\n",
    "* Calculate the perimeter of `circle` using its `.perimeter()` method and save it as `circle_perimeter`\n",
    "\n",
    "* Print out `circle_area` and `circle_perimeter`"
   ]
  },
  {
   "cell_type": "code",
   "execution_count": 31,
   "metadata": {},
   "outputs": [
    {
     "name": "stdout",
     "output_type": "stream",
     "text": [
      "28.26\n",
      "18.84\n"
     ]
    }
   ],
   "source": [
    "\n",
    "# class for Circle\n",
    "class Circle(object):\n",
    "\n",
    "    def __init__(self,radius):\n",
    "        self.radius = radius\n",
    "\n",
    "    def area(self):\n",
    "        return (3.14 * (self.radius ** 2))\n",
    "\n",
    "    def perimeter(self):\n",
    "        return (2 * 3.14 * self.radius)\n",
    "\n",
    "circle = Circle(3)\n",
    "\n",
    "# display area\n",
    "circle_area = circle.area()\n",
    "print(circle_area)\n",
    "# display perimeter\n",
    "circle_perimeter = circle.perimeter()\n",
    "print(circle_perimeter)\n",
    "        "
   ]
  },
  {
   "cell_type": "code",
   "execution_count": 50,
   "metadata": {},
   "outputs": [
    {
     "name": "stdout",
     "output_type": "stream",
     "text": [
      "17.5\n",
      "8.602325267042627\n",
      "Enter new height5\n",
      "Enter new base4\n",
      "5\n",
      "4\n",
      "6.4031242374328485\n"
     ]
    }
   ],
   "source": [
    "import math\n",
    "class tri(object):\n",
    "    def __init__(self,h,b):\n",
    "        self.h = h \n",
    "        self.b = b\n",
    "        \n",
    "    def hypo(self):\n",
    "        return (math.sqrt((self.h**2) + (self.b**2)))\n",
    "    \n",
    "    def area(self):\n",
    "        return ((self.h*self.b)*0.5)\n",
    "    \n",
    "    def change(self):\n",
    "        self.l = int(input(\"Enter new height\" ))\n",
    "        self.b = int(input(\"Enter new base\"))\n",
    "        \n",
    "        print(self.l)\n",
    "        print(self.b)\n",
    "    \n",
    "Rect = tri(5,7)\n",
    "\n",
    "Rect_area = Rect.area()\n",
    "print(Rect_area)\n",
    "\n",
    "Rect_perimeter = Rect.hypo()\n",
    "print(Rect_perimeter)\n",
    "\n",
    "Rect.change()\n",
    "Rect_perimeter = Rect.hypo()\n",
    "print(Rect_perimeter)"
   ]
  },
  {
   "cell_type": "markdown",
   "metadata": {},
   "source": [
    "<img src=\"../images/icon/quiz.png\" alt=\"Concept-Alert\" style=\"width: 100px;float:left; margin-right:15px\"/>\n",
    "<br /> \n",
    "\n",
    "## Handling Program Flow in Python\n",
    "\n",
    "1] Opening a file in ‘a’ mode\n",
    "```python\n",
    "* opens a file for reading\n",
    "* opens a file for writing\t\n",
    "* opens a file for appending at the end of the file\t\n",
    "* opens a file for exclusive creation\n",
    "```\n",
    "2] What does the following code do?\n",
    "\n",
    "f = open(\"test.txt\")\n",
    "```python\n",
    "* Opens test.txt file for both reading and writing\t\n",
    "* Opens test.txt file for reading only\n",
    "* Opens test.txt file for writing only\n",
    "* Opens test.txt file in god mode\n",
    "```\n",
    "3] What does the __init__() function do in Python?\n",
    "```python\n",
    "* Initializes the class for use.\t\n",
    "* This function is called when a new object is instantiated.\n",
    "* Initializes all the data attributes to zero when called.\n",
    "* None of the above.\n",
    "```"
   ]
  },
  {
   "cell_type": "code",
   "execution_count": 32,
   "metadata": {},
   "outputs": [
    {
     "name": "stdout",
     "output_type": "stream",
     "text": [
      "[1, 2]\n"
     ]
    }
   ],
   "source": [
    "a = [\"a\",\"v\",1,2,54.3]\n",
    "\n",
    "def cookie(list):\n",
    "    lista = [i for i in list if type(i) is int]\n",
    "    print(lista)\n",
    "    \n",
    "cookie(a)\n"
   ]
  },
  {
   "cell_type": "markdown",
   "metadata": {},
   "source": [
    "### Instructions\n",
    "Write a Python program to get the Fibonacci series between 0 to 50.\n",
    "\n",
    "Note : The Fibonacci Sequence is the series of numbers :\n",
    "0, 1, 1, 2, 3, 5, 8, 13, 21, .... \n",
    "Every next number is found by adding up the two numbers before it.\n",
    "\n",
    "**Pictorial Presentation:**\n",
    "<img src=\"../images/conditional.png\"/>"
   ]
  },
  {
   "cell_type": "code",
   "execution_count": 37,
   "metadata": {},
   "outputs": [
    {
     "name": "stdout",
     "output_type": "stream",
     "text": [
      "[0, 1, 1, 2, 3, 5, 8, 13, 21, 34, 55]\n"
     ]
    }
   ],
   "source": [
    "a = 0\n",
    "b = 1\n",
    "total = []\n",
    "total.append(a)\n",
    "\n",
    "for i in range(0,10):\n",
    "    temp = a + b\n",
    "    \n",
    "    a = b\n",
    "    b = temp\n",
    "    total.append(a)\n",
    "    \n",
    "print(total)"
   ]
  },
  {
   "cell_type": "markdown",
   "metadata": {
    "slideshow": {
     "slide_type": "slide"
    }
   },
   "source": [
    "# Further Reading\n",
    "\n",
    "- Official Python Documentation: https://docs.python.org/"
   ]
  },
  {
   "cell_type": "markdown",
   "metadata": {
    "collapsed": true,
    "slideshow": {
     "slide_type": "slide"
    }
   },
   "source": [
    "# Thank You\n",
    "***\n",
    "### Coming up next...\n",
    "\n",
    "- **Python Functions**: How to write modular functions to enable code reuse\n",
    "- **NumPy**: Learn the basis of most numeric computation in Python\n",
    "\n",
    "For more queries - Reach out to academics@greyatom.com "
   ]
  },
  {
   "cell_type": "code",
   "execution_count": 23,
   "metadata": {},
   "outputs": [
    {
     "data": {
      "text/plain": [
       "(5, 6)"
      ]
     },
     "execution_count": 23,
     "metadata": {},
     "output_type": "execute_result"
    }
   ],
   "source": [
    "def addmul(a,b):\n",
    "    c = a+b\n",
    "    d = a*b\n",
    "    return c,d\n",
    "\n",
    "addmul(2,3)"
   ]
  },
  {
   "cell_type": "code",
   "execution_count": null,
   "metadata": {},
   "outputs": [],
   "source": []
  }
 ],
 "metadata": {
  "celltoolbar": "Slideshow",
  "kernelspec": {
   "display_name": "Python 3",
   "language": "python",
   "name": "python3"
  },
  "language_info": {
   "codemirror_mode": {
    "name": "ipython",
    "version": 3
   },
   "file_extension": ".py",
   "mimetype": "text/x-python",
   "name": "python",
   "nbconvert_exporter": "python",
   "pygments_lexer": "ipython3",
   "version": "3.7.1"
  },
  "toc": {
   "colors": {
    "hover_highlight": "#DAA520",
    "running_highlight": "#FF0000",
    "selected_highlight": "#FFD700"
   },
   "moveMenuLeft": true,
   "nav_menu": {
    "height": "386px",
    "width": "268px"
   },
   "navigate_menu": true,
   "number_sections": true,
   "sideBar": true,
   "threshold": 4,
   "toc_cell": false,
   "toc_position": {
    "height": "664px",
    "left": "0px",
    "right": "1388px",
    "top": "107px",
    "width": "233px"
   },
   "toc_section_display": "block",
   "toc_window_display": true
  }
 },
 "nbformat": 4,
 "nbformat_minor": 2
}
