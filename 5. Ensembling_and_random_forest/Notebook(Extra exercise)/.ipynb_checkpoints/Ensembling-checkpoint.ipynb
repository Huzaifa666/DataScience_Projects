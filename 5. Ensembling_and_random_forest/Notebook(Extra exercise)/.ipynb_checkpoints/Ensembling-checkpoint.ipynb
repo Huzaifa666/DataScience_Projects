{
 "cells": [
  {
   "cell_type": "markdown",
   "metadata": {},
   "source": [
    "## Prediction of Career Lengths of NBA Players\n",
    "\n",
    "The dataset details the performance metrics of NBA players and whether their careers span more than 5 years or not. \n",
    "\n",
    "### Aim\n",
    "The task is to predict whether the careers of these players will span for more than 5 years or less.\n",
    "\n",
    "\n",
    "### Feature descriptions:\n",
    "The dataset contains columns giving values for points attained by NBA players in their careers. The description of the features is as given below\n",
    "\n",
    "\n",
    "|Features|Description|\n",
    "|----|----|\n",
    "|Name| Name of the Player|\n",
    "|Games Played|Number of Games Played by the player|\n",
    "|Minutes| Minutes Played\n",
    "|Points| Points Per Game|\n",
    "|Field Goals Made| Successful field goals made|\n",
    "|Field Goals Attempted | Field goals attempted |\n",
    "|Field Goals Percentage | Percentage of successful field goals out of the field goals attempted|\n",
    "|3 Pointers Made| Successful 3 pointer attempts|\n",
    "|3 Pointers Attempted | Total 3 pointers attempted|\n",
    "|3 Pointers Percentage | Percentage of successful 3 pointers out of those attempted|\n",
    "|Free Throws Made| Successful number of free throws | \n",
    "|Free Throws Attempted| Total attempted number of free throws|\n",
    "|Free Throw Percentage| Successful number of free throws out of those attempted|\n",
    "|OREB|Offesnisve Rebounds|\n",
    "|DREB|Defensive Rebounds |\n",
    "|REB|Rebounds|\n",
    "|AST|Assists|\n",
    "|STL|Steals|\n",
    "|BLK|Number of blocks|\n",
    "|TOV |Number of Turnovers|\n",
    "|Play for more than 5 years or less| 1 if career length is greater than 5 years else 0 if career length is less than 5 years|"
   ]
  },
  {
   "cell_type": "markdown",
   "metadata": {},
   "source": [
    "### Loading Libraries"
   ]
  },
  {
   "cell_type": "code",
   "execution_count": 2,
   "metadata": {},
   "outputs": [],
   "source": [
    "import numpy as np\n",
    "import pandas as pd\n",
    "import matplotlib.pyplot as plt\n",
    "import seaborn as sns\n",
    "%matplotlib inline\n",
    "import warnings\n",
    "warnings.filterwarnings('ignore')\n",
    "from sklearn.model_selection import train_test_split\n",
    "\n",
    "\n",
    "\n",
    "from sklearn.preprocessing import LabelEncoder\n",
    "from sklearn.linear_model import LogisticRegression\n",
    "from sklearn.tree import DecisionTreeClassifier\n",
    "from sklearn.ensemble import RandomForestClassifier, VotingClassifier, BaggingClassifier\n",
    "from sklearn.model_selection import GridSearchCV\n",
    "from sklearn.metrics import roc_auc_score,accuracy_score,classification_report,roc_curve,confusion_matrix\n",
    "from sklearn.ensemble import RandomForestRegressor\n",
    "pd.set_option('display.max_columns',None)"
   ]
  },
  {
   "cell_type": "code",
   "execution_count": 29,
   "metadata": {},
   "outputs": [
    {
     "name": "stdout",
     "output_type": "stream",
     "text": [
      "Collecting mlxtend\n",
      "  Downloading https://files.pythonhosted.org/packages/c0/ca/54fe0ae783ce81a467710d1c5fb41cfca075121139b48327b807020dc40c/mlxtend-0.16.0-py2.py3-none-any.whl (1.3MB)\n",
      "Requirement already satisfied: matplotlib>=1.5.1 in h:\\anaconda\\lib\\site-packages (from mlxtend) (3.0.3)\n",
      "Requirement already satisfied: scikit-learn>=0.18 in h:\\anaconda\\lib\\site-packages (from mlxtend) (0.21.1)\n",
      "Requirement already satisfied: numpy>=1.10.4 in h:\\anaconda\\lib\\site-packages (from mlxtend) (1.16.3)\n",
      "Requirement already satisfied: scipy>=0.17 in h:\\anaconda\\lib\\site-packages (from mlxtend) (1.2.1)\n",
      "Requirement already satisfied: pandas>=0.17.1 in h:\\anaconda\\lib\\site-packages (from mlxtend) (0.24.2)\n",
      "Requirement already satisfied: setuptools in h:\\anaconda\\lib\\site-packages (from mlxtend) (41.0.1)\n",
      "Requirement already satisfied: cycler>=0.10 in h:\\anaconda\\lib\\site-packages (from matplotlib>=1.5.1->mlxtend) (0.10.0)\n",
      "Requirement already satisfied: kiwisolver>=1.0.1 in h:\\anaconda\\lib\\site-packages (from matplotlib>=1.5.1->mlxtend) (1.1.0)\n",
      "Requirement already satisfied: pyparsing!=2.0.4,!=2.1.2,!=2.1.6,>=2.0.1 in h:\\anaconda\\lib\\site-packages (from matplotlib>=1.5.1->mlxtend) (2.4.0)\n",
      "Requirement already satisfied: python-dateutil>=2.1 in h:\\anaconda\\lib\\site-packages (from matplotlib>=1.5.1->mlxtend) (2.8.0)\n",
      "Requirement already satisfied: joblib>=0.11 in h:\\anaconda\\lib\\site-packages (from scikit-learn>=0.18->mlxtend) (0.13.2)\n",
      "Requirement already satisfied: pytz>=2011k in h:\\anaconda\\lib\\site-packages (from pandas>=0.17.1->mlxtend) (2019.1)\n",
      "Requirement already satisfied: six in h:\\anaconda\\lib\\site-packages (from cycler>=0.10->matplotlib>=1.5.1->mlxtend) (1.12.0)\n",
      "Installing collected packages: mlxtend\n",
      "Successfully installed mlxtend-0.16.0\n",
      "Note: you may need to restart the kernel to use updated packages.\n"
     ]
    }
   ],
   "source": [
    "pip install mlxtend"
   ]
  },
  {
   "cell_type": "markdown",
   "metadata": {},
   "source": [
    "### Read the data. List the categorical and continuous features in the dataset. Find the number of null values in every feature and impute them appropriately. "
   ]
  },
  {
   "cell_type": "code",
   "execution_count": 3,
   "metadata": {},
   "outputs": [],
   "source": [
    "# Read the data\n",
    "df = pd.read_csv('NBA_players.csv')"
   ]
  },
  {
   "cell_type": "code",
   "execution_count": 4,
   "metadata": {},
   "outputs": [
    {
     "data": {
      "text/html": [
       "<div>\n",
       "<style scoped>\n",
       "    .dataframe tbody tr th:only-of-type {\n",
       "        vertical-align: middle;\n",
       "    }\n",
       "\n",
       "    .dataframe tbody tr th {\n",
       "        vertical-align: top;\n",
       "    }\n",
       "\n",
       "    .dataframe thead th {\n",
       "        text-align: right;\n",
       "    }\n",
       "</style>\n",
       "<table border=\"1\" class=\"dataframe\">\n",
       "  <thead>\n",
       "    <tr style=\"text-align: right;\">\n",
       "      <th></th>\n",
       "      <th>Name</th>\n",
       "      <th>Games Played</th>\n",
       "      <th>Minutes</th>\n",
       "      <th>Points</th>\n",
       "      <th>Field Goals Made</th>\n",
       "      <th>Field Goals Attempted</th>\n",
       "      <th>Field Goals Percentage</th>\n",
       "      <th>3 Pointers Made</th>\n",
       "      <th>3 Pointers Attempted</th>\n",
       "      <th>3 Pointers Percentage</th>\n",
       "      <th>Free Throws Made</th>\n",
       "      <th>Free Throws Attempted</th>\n",
       "      <th>Fre Throw Percentage</th>\n",
       "      <th>OREB</th>\n",
       "      <th>DREB</th>\n",
       "      <th>REB</th>\n",
       "      <th>AST</th>\n",
       "      <th>STL</th>\n",
       "      <th>BLK</th>\n",
       "      <th>TOV</th>\n",
       "      <th>Play for more than 5 years or less</th>\n",
       "    </tr>\n",
       "  </thead>\n",
       "  <tbody>\n",
       "    <tr>\n",
       "      <th>0</th>\n",
       "      <td>Brandon Ingram</td>\n",
       "      <td>36</td>\n",
       "      <td>27.4</td>\n",
       "      <td>7.4</td>\n",
       "      <td>2.6</td>\n",
       "      <td>7.6</td>\n",
       "      <td>34.7</td>\n",
       "      <td>0.5</td>\n",
       "      <td>2.1</td>\n",
       "      <td>25.0</td>\n",
       "      <td>1.6</td>\n",
       "      <td>2.3</td>\n",
       "      <td>69.9</td>\n",
       "      <td>0.7</td>\n",
       "      <td>3.4</td>\n",
       "      <td>4.1</td>\n",
       "      <td>1.9</td>\n",
       "      <td>0.4</td>\n",
       "      <td>0.4</td>\n",
       "      <td>1.3</td>\n",
       "      <td>0.0</td>\n",
       "    </tr>\n",
       "    <tr>\n",
       "      <th>1</th>\n",
       "      <td>Andrew Harrison</td>\n",
       "      <td>35</td>\n",
       "      <td>26.9</td>\n",
       "      <td>7.2</td>\n",
       "      <td>2.0</td>\n",
       "      <td>6.7</td>\n",
       "      <td>29.6</td>\n",
       "      <td>0.7</td>\n",
       "      <td>2.8</td>\n",
       "      <td>23.5</td>\n",
       "      <td>2.6</td>\n",
       "      <td>3.4</td>\n",
       "      <td>76.5</td>\n",
       "      <td>0.5</td>\n",
       "      <td>2.0</td>\n",
       "      <td>2.4</td>\n",
       "      <td>3.7</td>\n",
       "      <td>1.1</td>\n",
       "      <td>0.5</td>\n",
       "      <td>1.6</td>\n",
       "      <td>0.0</td>\n",
       "    </tr>\n",
       "    <tr>\n",
       "      <th>2</th>\n",
       "      <td>JaKarr Sampson</td>\n",
       "      <td>74</td>\n",
       "      <td>15.3</td>\n",
       "      <td>5.2</td>\n",
       "      <td>2.0</td>\n",
       "      <td>4.7</td>\n",
       "      <td>42.2</td>\n",
       "      <td>0.4</td>\n",
       "      <td>1.7</td>\n",
       "      <td>24.4</td>\n",
       "      <td>0.9</td>\n",
       "      <td>1.3</td>\n",
       "      <td>67.0</td>\n",
       "      <td>0.5</td>\n",
       "      <td>1.7</td>\n",
       "      <td>2.2</td>\n",
       "      <td>1.0</td>\n",
       "      <td>0.5</td>\n",
       "      <td>0.3</td>\n",
       "      <td>1.0</td>\n",
       "      <td>0.0</td>\n",
       "    </tr>\n",
       "    <tr>\n",
       "      <th>3</th>\n",
       "      <td>Malik Sealy</td>\n",
       "      <td>58</td>\n",
       "      <td>11.6</td>\n",
       "      <td>5.7</td>\n",
       "      <td>2.3</td>\n",
       "      <td>5.5</td>\n",
       "      <td>42.6</td>\n",
       "      <td>0.1</td>\n",
       "      <td>0.5</td>\n",
       "      <td>22.6</td>\n",
       "      <td>0.9</td>\n",
       "      <td>1.3</td>\n",
       "      <td>68.9</td>\n",
       "      <td>1.0</td>\n",
       "      <td>0.9</td>\n",
       "      <td>1.9</td>\n",
       "      <td>0.8</td>\n",
       "      <td>0.6</td>\n",
       "      <td>0.1</td>\n",
       "      <td>1.0</td>\n",
       "      <td>1.0</td>\n",
       "    </tr>\n",
       "    <tr>\n",
       "      <th>4</th>\n",
       "      <td>Matt Geiger</td>\n",
       "      <td>48</td>\n",
       "      <td>11.5</td>\n",
       "      <td>4.5</td>\n",
       "      <td>1.6</td>\n",
       "      <td>3.0</td>\n",
       "      <td>52.4</td>\n",
       "      <td>0.0</td>\n",
       "      <td>0.1</td>\n",
       "      <td>0.0</td>\n",
       "      <td>1.3</td>\n",
       "      <td>1.9</td>\n",
       "      <td>67.4</td>\n",
       "      <td>1.0</td>\n",
       "      <td>1.5</td>\n",
       "      <td>2.5</td>\n",
       "      <td>0.3</td>\n",
       "      <td>0.3</td>\n",
       "      <td>0.4</td>\n",
       "      <td>0.8</td>\n",
       "      <td>1.0</td>\n",
       "    </tr>\n",
       "  </tbody>\n",
       "</table>\n",
       "</div>"
      ],
      "text/plain": [
       "              Name  Games Played  Minutes  Points  Field Goals Made  \\\n",
       "0   Brandon Ingram            36     27.4     7.4               2.6   \n",
       "1  Andrew Harrison            35     26.9     7.2               2.0   \n",
       "2   JaKarr Sampson            74     15.3     5.2               2.0   \n",
       "3      Malik Sealy            58     11.6     5.7               2.3   \n",
       "4      Matt Geiger            48     11.5     4.5               1.6   \n",
       "\n",
       "   Field Goals Attempted  Field Goals Percentage  3 Pointers Made  \\\n",
       "0                    7.6                    34.7              0.5   \n",
       "1                    6.7                    29.6              0.7   \n",
       "2                    4.7                    42.2              0.4   \n",
       "3                    5.5                    42.6              0.1   \n",
       "4                    3.0                    52.4              0.0   \n",
       "\n",
       "   3 Pointers Attempted  3 Pointers Percentage  Free Throws Made  \\\n",
       "0                   2.1                   25.0               1.6   \n",
       "1                   2.8                   23.5               2.6   \n",
       "2                   1.7                   24.4               0.9   \n",
       "3                   0.5                   22.6               0.9   \n",
       "4                   0.1                    0.0               1.3   \n",
       "\n",
       "   Free Throws Attempted  Fre Throw Percentage  OREB  DREB  REB  AST  STL  \\\n",
       "0                    2.3                  69.9   0.7   3.4  4.1  1.9  0.4   \n",
       "1                    3.4                  76.5   0.5   2.0  2.4  3.7  1.1   \n",
       "2                    1.3                  67.0   0.5   1.7  2.2  1.0  0.5   \n",
       "3                    1.3                  68.9   1.0   0.9  1.9  0.8  0.6   \n",
       "4                    1.9                  67.4   1.0   1.5  2.5  0.3  0.3   \n",
       "\n",
       "   BLK  TOV  Play for more than 5 years or less  \n",
       "0  0.4  1.3                                 0.0  \n",
       "1  0.5  1.6                                 0.0  \n",
       "2  0.3  1.0                                 0.0  \n",
       "3  0.1  1.0                                 1.0  \n",
       "4  0.4  0.8                                 1.0  "
      ]
     },
     "execution_count": 4,
     "metadata": {},
     "output_type": "execute_result"
    }
   ],
   "source": [
    "df.head()"
   ]
  },
  {
   "cell_type": "code",
   "execution_count": 5,
   "metadata": {},
   "outputs": [
    {
     "data": {
      "text/plain": [
       "20"
      ]
     },
     "execution_count": 5,
     "metadata": {},
     "output_type": "execute_result"
    }
   ],
   "source": [
    "nums = df.select_dtypes(include = \"number\" )\n",
    "cate = df.drop(nums, axis = 1)\n",
    "len(nums.columns)"
   ]
  },
  {
   "cell_type": "code",
   "execution_count": 6,
   "metadata": {},
   "outputs": [],
   "source": [
    "for i in nums.columns:\n",
    "    nums.fillna((nums[i].median()), inplace = True)"
   ]
  },
  {
   "cell_type": "code",
   "execution_count": 7,
   "metadata": {},
   "outputs": [],
   "source": [
    "df[nums.columns] = nums"
   ]
  },
  {
   "cell_type": "code",
   "execution_count": 8,
   "metadata": {},
   "outputs": [
    {
     "data": {
      "text/plain": [
       "Name                                  0\n",
       "Games Played                          0\n",
       "Minutes                               0\n",
       "Points                                0\n",
       "Field Goals Made                      0\n",
       "Field Goals Attempted                 0\n",
       "Field Goals Percentage                0\n",
       "3 Pointers Made                       0\n",
       "3 Pointers Attempted                  0\n",
       "3 Pointers Percentage                 0\n",
       "Free Throws Made                      0\n",
       "Free Throws Attempted                 0\n",
       "Fre Throw Percentage                  0\n",
       "OREB                                  0\n",
       "DREB                                  0\n",
       "REB                                   0\n",
       "AST                                   0\n",
       "STL                                   0\n",
       "BLK                                   0\n",
       "TOV                                   0\n",
       "Play for more than 5 years or less    0\n",
       "dtype: int64"
      ]
     },
     "execution_count": 8,
     "metadata": {},
     "output_type": "execute_result"
    }
   ],
   "source": [
    "df.isnull().sum()"
   ]
  },
  {
   "cell_type": "markdown",
   "metadata": {},
   "source": [
    "### Seperate the independent features and target"
   ]
  },
  {
   "cell_type": "code",
   "execution_count": 9,
   "metadata": {},
   "outputs": [],
   "source": [
    "df.drop('Name', axis = 1, inplace = True)"
   ]
  },
  {
   "cell_type": "code",
   "execution_count": 10,
   "metadata": {},
   "outputs": [],
   "source": [
    "X = df.drop(\"Play for more than 5 years or less\", axis = 1)\n",
    "y = df['Play for more than 5 years or less']"
   ]
  },
  {
   "cell_type": "markdown",
   "metadata": {},
   "source": [
    "### Check for class distribution in the target"
   ]
  },
  {
   "cell_type": "code",
   "execution_count": 11,
   "metadata": {},
   "outputs": [
    {
     "data": {
      "text/plain": [
       "<matplotlib.axes._subplots.AxesSubplot at 0x28900021a20>"
      ]
     },
     "execution_count": 11,
     "metadata": {},
     "output_type": "execute_result"
    },
    {
     "data": {
      "image/png": "[encoded data removed]",
      "text/plain": [
       "<Figure size 432x288 with 1 Axes>"
      ]
     },
     "metadata": {
      "needs_background": "light"
     },
     "output_type": "display_data"
    }
   ],
   "source": [
    "y.hist()"
   ]
  },
  {
   "cell_type": "markdown",
   "metadata": {},
   "source": [
    "### Plot the distribution of each feature, so that we have a better understanding about the distribution of each feature. Draw the number of values for each category feature and the histogram of the values for each continuous feature."
   ]
  },
  {
   "cell_type": "code",
   "execution_count": 12,
   "metadata": {},
   "outputs": [
    {
     "data": {
      "image/png": "[encoded data removed]",
      "text/plain": [
       "<Figure size 1800x1080 with 19 Axes>"
      ]
     },
     "metadata": {
      "needs_background": "light"
     },
     "output_type": "display_data"
    }
   ],
   "source": [
    "fig = plt.figure(figsize=(25, 15))\n",
    "cols = 5\n",
    "rows = np.ceil(float(X.shape[1]) / cols)\n",
    "for i, column in enumerate(X.columns):\n",
    "   ax = fig.add_subplot(rows, cols, i + 1)\n",
    "   ax.set_title(column)\n",
    "   if X.dtypes[column] == np.object:\n",
    "       X[column].value_counts().plot(kind=\"bar\", axes=ax)\n",
    "   else:\n",
    "       X[column].hist(axes=ax)\n",
    "       plt.xticks(rotation=\"vertical\")\n",
    "plt.subplots_adjust(hspace=0.7, wspace=0.2)"
   ]
  },
  {
   "cell_type": "markdown",
   "metadata": {},
   "source": [
    "### Let's check the amount of skewness in our continuous predictors and depending on the type of skewness, let's apply the necessary transformations for removing the skewness"
   ]
  },
  {
   "cell_type": "code",
   "execution_count": 13,
   "metadata": {},
   "outputs": [],
   "source": [
    "import scipy.stats as acs\n",
    "features = []\n",
    "skewness = []\n",
    "for i in X.select_dtypes(include = np.number).columns:\n",
    "    features.append(i)\n",
    "    skewness.append(acs.skew(X[i]))\n",
    "skewed = pd.DataFrame({'Features': features, 'Skewness': skewness})\n",
    "\n",
    "positively_skewed = skewed[(skewed['Skewness'] > 1)]\n",
    "negatively_skewed = skewed[(skewed['Skewness'] < -1)]"
   ]
  },
  {
   "cell_type": "code",
   "execution_count": 14,
   "metadata": {},
   "outputs": [],
   "source": [
    "for i in positively_skewed['Features']:\n",
    "    X[i] = np.log1p(X[i])"
   ]
  },
  {
   "cell_type": "markdown",
   "metadata": {},
   "source": [
    "### Split train and test data into X_train ,y_train,X_test and y_test data and apply a vanilla logistic regression model"
   ]
  },
  {
   "cell_type": "code",
   "execution_count": 15,
   "metadata": {},
   "outputs": [],
   "source": [
    "X_train, X_test, y_train, y_test = train_test_split(X,y, test_size = 0.3, random_state = 9)"
   ]
  },
  {
   "cell_type": "code",
   "execution_count": 16,
   "metadata": {},
   "outputs": [
    {
     "name": "stdout",
     "output_type": "stream",
     "text": [
      "0.6990049751243781 0.6685523568980181\n"
     ]
    }
   ],
   "source": [
    "from sklearn.metrics import roc_auc_score\n",
    "lr = LogisticRegression()\n",
    "lr.fit(X_train, y_train)\n",
    "y_pred = lr.predict(X_test)\n",
    "print(accuracy_score(y_test, y_pred), roc_auc_score(y_test, y_pred))"
   ]
  },
  {
   "cell_type": "markdown",
   "metadata": {},
   "source": [
    "### Lets now train our data with Decision tree model. We will then predict our test data and compute the accuracy as well as the `roc_auc_score`.\n",
    "\n",
    "- Train a decision tree (DecisionTreeClassifier) with a maximum depth of 3, and evaluate the accuracy metric i.e `roc_auc_score` on the test data. Use parameter `random_state = 42` for results reproducibility."
   ]
  },
  {
   "cell_type": "code",
   "execution_count": 17,
   "metadata": {
    "scrolled": true
   },
   "outputs": [],
   "source": [
    "dc = DecisionTreeClassifier(random_state = 42, max_depth = 3)"
   ]
  },
  {
   "cell_type": "code",
   "execution_count": 18,
   "metadata": {},
   "outputs": [
    {
     "name": "stdout",
     "output_type": "stream",
     "text": [
      "0.6716417910447762 0.6416071750728074\n"
     ]
    }
   ],
   "source": [
    "dc.fit(X_train, y_train)\n",
    "y_pred1 = dc.predict(X_test)\n",
    "print(accuracy_score(y_test, y_pred1), roc_auc_score(y_test, y_pred1))"
   ]
  },
  {
   "cell_type": "markdown",
   "metadata": {},
   "source": [
    "### Next let's implement a Stacking Classifier consisting of one Decision Tree and Logistic regression and a  decision tree model as a meta classifier."
   ]
  },
  {
   "cell_type": "code",
   "execution_count": 30,
   "metadata": {},
   "outputs": [
    {
     "name": "stdout",
     "output_type": "stream",
     "text": [
      "0.6940298507462687 0.6788355970206954\n"
     ]
    }
   ],
   "source": [
    "from mlxtend.regressor import StackingRegressor\n",
    "list = [lr,dc]\n",
    "dec = DecisionTreeClassifier()\n",
    "z = StackingRegressor(regressors = list, meta_regressor = dec)\n",
    "z.fit(X_train, y_train)\n",
    "y_pred2 = z.predict(X_test)\n",
    "print(accuracy_score(y_test, y_pred2), roc_auc_score(y_test, y_pred2))"
   ]
  },
  {
   "cell_type": "markdown",
   "metadata": {},
   "source": [
    "###  Now let's apply a Random Forest model\n",
    "- Let the parameters for the model be `criterion='gini'`, `max_depth= 6`,`max_features= 'auto'`,`n_estimators= 11`"
   ]
  },
  {
   "cell_type": "code",
   "execution_count": 31,
   "metadata": {},
   "outputs": [],
   "source": [
    "rf = RandomForestClassifier(criterion = 'gini', max_depth = 6, max_features = 'auto', n_estimators = 11)"
   ]
  },
  {
   "cell_type": "code",
   "execution_count": 32,
   "metadata": {},
   "outputs": [
    {
     "name": "stdout",
     "output_type": "stream",
     "text": [
      "0.7238805970149254 0.692391948661117\n"
     ]
    }
   ],
   "source": [
    "rf.fit(X_train, y_train)\n",
    "y_pred3 = rf.predict(X_test)\n",
    "print(accuracy_score(y_test, y_pred3), roc_auc_score(y_test, y_pred3))"
   ]
  },
  {
   "cell_type": "markdown",
   "metadata": {},
   "source": [
    "### Let's try improving upon the accuracy of the Random Forest using hyperparameter tuning"
   ]
  },
  {
   "cell_type": "code",
   "execution_count": 33,
   "metadata": {},
   "outputs": [],
   "source": [
    "params = {'criterion': ['gini', 'entropy'],\n",
    " 'max_depth': [4,5,6,7,8],\n",
    " 'max_features': ['auto', 'sqrt','log2'],\n",
    " 'n_estimators': [11,12,13]}\n",
    "hyper = GridSearchCV(estimator = rf, param_grid = params)"
   ]
  },
  {
   "cell_type": "code",
   "execution_count": 34,
   "metadata": {},
   "outputs": [
    {
     "name": "stdout",
     "output_type": "stream",
     "text": [
      "0.6940298507462687 0.6623411767737944\n"
     ]
    }
   ],
   "source": [
    "hyper.fit(X_train, y_train)\n",
    "y_pred4 = hyper.predict(X_test)\n",
    "print(accuracy_score(y_test, y_pred4), roc_auc_score(y_test, y_pred4))"
   ]
  },
  {
   "cell_type": "markdown",
   "metadata": {},
   "source": [
    "### Now let's apply a Voting Classifier that consists of three models - Logistic Regression, Decision Tree and a Random Forest with a soft voting"
   ]
  },
  {
   "cell_type": "code",
   "execution_count": 35,
   "metadata": {},
   "outputs": [],
   "source": [
    "#No Longer Used\n",
    "#list1 = [('lr', lr), ('rf', hyper), ('dc', dc)]\n",
    "#vc = VotingClassifier(estimators = list1, voting = 'soft')\n",
    "#vc.fit(X_train, y_train)\n",
    "#y_pred5 = vc.predict(X_test)\n",
    "#print(accuracy_score(y_test, y_pred5), roc_auc_score(y_test, y_pred5))"
   ]
  },
  {
   "cell_type": "markdown",
   "metadata": {},
   "source": [
    "### Let's check how a bagging classifier using a Decision Tree performs on our data"
   ]
  },
  {
   "cell_type": "code",
   "execution_count": 36,
   "metadata": {},
   "outputs": [
    {
     "name": "stdout",
     "output_type": "stream",
     "text": [
      "0.7388059701492538 0.7120563902992192\n"
     ]
    }
   ],
   "source": [
    "bc = BaggingClassifier(base_estimator = dc, random_state = 0, n_estimators = 100, max_samples = 100)\n",
    "bc.fit(X_train, y_train)\n",
    "y_pred6 = bc.predict(X_test)\n",
    "print(accuracy_score(y_test, y_pred6), roc_auc_score(y_test, y_pred6))"
   ]
  },
  {
   "cell_type": "code",
   "execution_count": 41,
   "metadata": {},
   "outputs": [],
   "source": [
    "ruc1 = roc_auc_score(y_test, y_pred)\n",
    "ruc2 = roc_auc_score(y_test, y_pred1)\n",
    "ruc3 = roc_auc_score(y_test, y_pred2)\n",
    "ruc4 = roc_auc_score(y_test, y_pred3)\n",
    "ruc5 = roc_auc_score(y_test, y_pred4)\n",
    "ruc6 = roc_auc_score(y_test, y_pred6)"
   ]
  },
  {
   "cell_type": "code",
   "execution_count": 42,
   "metadata": {},
   "outputs": [
    {
     "name": "stdout",
     "output_type": "stream",
     "text": [
      "0.6685523568980181 0.6416071750728074 0.6788355970206954 0.692391948661117 0.6623411767737944 0.7120563902992192\n"
     ]
    }
   ],
   "source": [
    "print(ruc1, ruc2, ruc3, ruc4, ruc5, ruc6)"
   ]
  },
  {
   "cell_type": "code",
   "execution_count": null,
   "metadata": {},
   "outputs": [],
   "source": []
  }
 ],
 "metadata": {
  "kernelspec": {
   "display_name": "Python 3",
   "language": "python",
   "name": "python3"
  },
  "language_info": {
   "codemirror_mode": {
    "name": "ipython",
    "version": 3
   },
   "file_extension": ".py",
   "mimetype": "text/x-python",
   "name": "python",
   "nbconvert_exporter": "python",
   "pygments_lexer": "ipython3",
   "version": "3.7.3"
  }
 },
 "nbformat": 4,
 "nbformat_minor": 2
}
